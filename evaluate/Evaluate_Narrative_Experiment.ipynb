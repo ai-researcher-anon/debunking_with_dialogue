{
 "cells": [
  {
   "cell_type": "code",
   "execution_count": 133,
   "id": "5528b303-6779-466b-81f0-e72d56e36933",
   "metadata": {},
   "outputs": [],
   "source": [
    "from os.path import join\n",
    "import sys\n",
    "[sys.path.append(i) for i in ['.', '..']]\n",
    "\n",
    "import numpy as np\n",
    "import pandas as pd\n",
    "\n",
    "pd.set_option(\"display.max_columns\", None)\n",
    "pd.set_option(\"display.width\", 1000)\n",
    "\n",
    "from config import FINAL_ANNOTATION_FILE_PATH, ORDINAL_COLS, NOMINAL_COLS, DATA_DIR\n",
    "from evaluate.evaluate_counterspeech_diversity import extract_named_entities\n"
   ]
  },
  {
   "cell_type": "code",
   "execution_count": 114,
   "id": "4d5d9280-ac75-4001-ad6a-c398b9094879",
   "metadata": {},
   "outputs": [
    {
     "name": "stderr",
     "output_type": "stream",
     "text": [
      "/var/folders/5r/147qn_r949n270dn6qvhgnrw0000gn/T/ipykernel_26704/1642450606.py:2: FutureWarning: Setting an item of incompatible dtype is deprecated and will raise in a future error of pandas. Value 'n/a' has dtype incompatible with float64, please explicitly cast to a compatible dtype first.\n",
      "  df.fillna(\"n/a\", inplace=True)\n"
     ]
    },
    {
     "data": {
      "text/html": [
       "<div>\n",
       "<style scoped>\n",
       "    .dataframe tbody tr th:only-of-type {\n",
       "        vertical-align: middle;\n",
       "    }\n",
       "\n",
       "    .dataframe tbody tr th {\n",
       "        vertical-align: top;\n",
       "    }\n",
       "\n",
       "    .dataframe thead th {\n",
       "        text-align: right;\n",
       "    }\n",
       "</style>\n",
       "<table border=\"1\" class=\"dataframe\">\n",
       "  <thead>\n",
       "    <tr style=\"text-align: right;\">\n",
       "      <th></th>\n",
       "      <th>theme</th>\n",
       "      <th>message</th>\n",
       "      <th>link</th>\n",
       "      <th>conspiracy theory</th>\n",
       "      <th>actor</th>\n",
       "      <th>strategy</th>\n",
       "      <th>goal</th>\n",
       "      <th>sheeples</th>\n",
       "      <th>secrecy</th>\n",
       "      <th>puppets</th>\n",
       "      <th>fear</th>\n",
       "      <th>hate</th>\n",
       "      <th>euphoria/excitement</th>\n",
       "      <th>authenticating</th>\n",
       "      <th>directive</th>\n",
       "      <th>rhetorical question</th>\n",
       "      <th>explictitly racist</th>\n",
       "      <th>explicitily antisemitic</th>\n",
       "      <th>explicitly misogynist</th>\n",
       "      <th>insults/offensive language</th>\n",
       "      <th>model_output</th>\n",
       "      <th>model</th>\n",
       "      <th>model_counter_speech</th>\n",
       "      <th>model_strategies</th>\n",
       "      <th>model_strategies_corrected</th>\n",
       "      <th>model_counter_speech_corrected</th>\n",
       "      <th>clarity</th>\n",
       "      <th>factual</th>\n",
       "      <th>alternative</th>\n",
       "      <th>narrative</th>\n",
       "      <th>critical_thinking</th>\n",
       "      <th>fear_id</th>\n",
       "      <th>fear_ack</th>\n",
       "      <th>conspiracy_usage</th>\n",
       "      <th>repetition_harmful</th>\n",
       "      <th>hate_speech_id</th>\n",
       "      <th>hate_speech_handling</th>\n",
       "      <th>conspiracy_handling</th>\n",
       "      <th>strategy_1</th>\n",
       "      <th>strategy_2</th>\n",
       "      <th>strategy_3</th>\n",
       "      <th>strategy_4</th>\n",
       "      <th>step_2</th>\n",
       "      <th>fear_id_message</th>\n",
       "      <th>fear_id_response</th>\n",
       "      <th>hate_speech_id_message</th>\n",
       "      <th>hate_speech_id_response</th>\n",
       "    </tr>\n",
       "  </thead>\n",
       "  <tbody>\n",
       "    <tr>\n",
       "      <th>0</th>\n",
       "      <td>1.0</td>\n",
       "      <td>\"Wake up, sheeple! Biden's just a puppet for t...</td>\n",
       "      <td>1781568827693965722</td>\n",
       "      <td>QAnon</td>\n",
       "      <td>Biden, Marxist elite</td>\n",
       "      <td>n/a</td>\n",
       "      <td>n/a</td>\n",
       "      <td>1</td>\n",
       "      <td>n/a</td>\n",
       "      <td>1</td>\n",
       "      <td>n/a</td>\n",
       "      <td>woke mob</td>\n",
       "      <td>n/a</td>\n",
       "      <td>0</td>\n",
       "      <td>1</td>\n",
       "      <td>n/a</td>\n",
       "      <td>n/a</td>\n",
       "      <td>n/a</td>\n",
       "      <td>n/a</td>\n",
       "      <td>n/a</td>\n",
       "      <td>&lt;XXX&gt;\\n\\nAs a concerned citizen, I understand ...</td>\n",
       "      <td>llama3</td>\n",
       "      <td>\\n\\nAs a concerned citizen, I understand your ...</td>\n",
       "      <td></td>\n",
       "      <td>Strategy 1: Refute based on Fact-Checks\\n\\nStr...</td>\n",
       "      <td>\\n\\nAs a concerned citizen, I understand your ...</td>\n",
       "      <td>2.0</td>\n",
       "      <td>2.0</td>\n",
       "      <td>n/a</td>\n",
       "      <td>n/a</td>\n",
       "      <td>3.0</td>\n",
       "      <td>0-1</td>\n",
       "      <td>2.0</td>\n",
       "      <td>1.0</td>\n",
       "      <td>4.0</td>\n",
       "      <td>0-0</td>\n",
       "      <td>n/a</td>\n",
       "      <td>n/a</td>\n",
       "      <td>1.0</td>\n",
       "      <td>1.0</td>\n",
       "      <td>-1.0</td>\n",
       "      <td>1.0</td>\n",
       "      <td>n/a</td>\n",
       "      <td>0.0</td>\n",
       "      <td>1.0</td>\n",
       "      <td>0.0</td>\n",
       "      <td>0.0</td>\n",
       "    </tr>\n",
       "    <tr>\n",
       "      <th>1</th>\n",
       "      <td>1.0</td>\n",
       "      <td>\"Liberals want to take away our #SecondAmendme...</td>\n",
       "      <td>1781568827693965722</td>\n",
       "      <td>QAnon</td>\n",
       "      <td>liberals</td>\n",
       "      <td>indirect: gun laws</td>\n",
       "      <td>take away our #SecondAmendmentRights and leave...</td>\n",
       "      <td>n/a</td>\n",
       "      <td>n/a</td>\n",
       "      <td>n/a</td>\n",
       "      <td>1.0</td>\n",
       "      <td>n/a</td>\n",
       "      <td>n/a</td>\n",
       "      <td>n/a</td>\n",
       "      <td>1</td>\n",
       "      <td>n/a</td>\n",
       "      <td>n/a</td>\n",
       "      <td>n/a</td>\n",
       "      <td>n/a</td>\n",
       "      <td>n/a</td>\n",
       "      <td>&lt;XXX&gt;\\n\\nThe Second Amendment is a vital part ...</td>\n",
       "      <td>llama3</td>\n",
       "      <td>\\n\\nThe Second Amendment is a vital part of ou...</td>\n",
       "      <td>\\n\\nHandled Step 2: No hate speech identified...</td>\n",
       "      <td>\\n\\nHandled Step 2: No hate speech identified...</td>\n",
       "      <td>\\n\\nThe Second Amendment is a vital part of ou...</td>\n",
       "      <td>4.0</td>\n",
       "      <td>4.0</td>\n",
       "      <td>4.0</td>\n",
       "      <td>n/a</td>\n",
       "      <td>2.0</td>\n",
       "      <td>0-0</td>\n",
       "      <td>n/a</td>\n",
       "      <td>1.0</td>\n",
       "      <td>2.0</td>\n",
       "      <td>0-0</td>\n",
       "      <td>n/a</td>\n",
       "      <td>n/a</td>\n",
       "      <td>1.0</td>\n",
       "      <td>1.0</td>\n",
       "      <td>-1.0</td>\n",
       "      <td>1.0</td>\n",
       "      <td>1.0</td>\n",
       "      <td>0.0</td>\n",
       "      <td>0.0</td>\n",
       "      <td>0.0</td>\n",
       "      <td>0.0</td>\n",
       "    </tr>\n",
       "  </tbody>\n",
       "</table>\n",
       "</div>"
      ],
      "text/plain": [
       "  theme                                            message                 link conspiracy theory                 actor            strategy                                               goal sheeples secrecy puppets fear      hate euphoria/excitement authenticating directive rhetorical question explictitly racist explicitily antisemitic explicitly misogynist insults/offensive language                                       model_output   model                               model_counter_speech                                   model_strategies                         model_strategies_corrected                     model_counter_speech_corrected  clarity factual alternative narrative critical_thinking fear_id fear_ack  conspiracy_usage repetition_harmful hate_speech_id hate_speech_handling conspiracy_handling strategy_1 strategy_2 strategy_3 strategy_4 step_2  fear_id_message  fear_id_response  hate_speech_id_message  hate_speech_id_response\n",
       "0   1.0  \"Wake up, sheeple! Biden's just a puppet for t...  1781568827693965722             QAnon  Biden, Marxist elite                 n/a                                                n/a        1     n/a       1  n/a  woke mob                 n/a              0         1                 n/a                n/a                     n/a                   n/a                        n/a  <XXX>\\n\\nAs a concerned citizen, I understand ...  llama3  \\n\\nAs a concerned citizen, I understand your ...                                                     Strategy 1: Refute based on Fact-Checks\\n\\nStr...  \\n\\nAs a concerned citizen, I understand your ...      2.0     2.0         n/a       n/a               3.0     0-1      2.0               1.0                4.0            0-0                  n/a                 n/a        1.0        1.0       -1.0        1.0    n/a              0.0               1.0                     0.0                      0.0\n",
       "1   1.0  \"Liberals want to take away our #SecondAmendme...  1781568827693965722             QAnon              liberals  indirect: gun laws  take away our #SecondAmendmentRights and leave...      n/a     n/a     n/a  1.0       n/a                 n/a            n/a         1                 n/a                n/a                     n/a                   n/a                        n/a  <XXX>\\n\\nThe Second Amendment is a vital part ...  llama3  \\n\\nThe Second Amendment is a vital part of ou...   \\n\\nHandled Step 2: No hate speech identified...   \\n\\nHandled Step 2: No hate speech identified...  \\n\\nThe Second Amendment is a vital part of ou...      4.0     4.0         4.0       n/a               2.0     0-0      n/a               1.0                2.0            0-0                  n/a                 n/a        1.0        1.0       -1.0        1.0    1.0              0.0               0.0                     0.0                      0.0"
      ]
     },
     "execution_count": 114,
     "metadata": {},
     "output_type": "execute_result"
    }
   ],
   "source": [
    "df = pd.read_csv(FINAL_ANNOTATION_FILE_PATH)\n",
    "df.fillna(\"n/a\", inplace=True)\n",
    "df.head(2)"
   ]
  },
  {
   "cell_type": "code",
   "execution_count": 115,
   "id": "cd9ddd78-aaa2-4ddc-9a0b-f2e3d315228b",
   "metadata": {},
   "outputs": [],
   "source": [
    "df = df[(df[\"model\"]==\"gpt4o\") & (df[\"theme\"]==2.0)]"
   ]
  },
  {
   "cell_type": "code",
   "execution_count": 116,
   "id": "2e20f742-a111-4d55-b2ed-3c85fa088e95",
   "metadata": {},
   "outputs": [
    {
     "data": {
      "text/plain": [
       "76"
      ]
     },
     "execution_count": 116,
     "metadata": {},
     "output_type": "execute_result"
    }
   ],
   "source": [
    "len(df)"
   ]
  },
  {
   "cell_type": "code",
   "execution_count": 117,
   "id": "22db4c2a-16b4-4a75-a9ce-747a4898f124",
   "metadata": {},
   "outputs": [
    {
     "name": "stderr",
     "output_type": "stream",
     "text": [
      "/var/folders/5r/147qn_r949n270dn6qvhgnrw0000gn/T/ipykernel_26704/3409609122.py:2: FutureWarning: Setting an item of incompatible dtype is deprecated and will raise in a future error of pandas. Value 'n/a' has dtype incompatible with float64, please explicitly cast to a compatible dtype first.\n",
      "  df_narrative.fillna(\"n/a\", inplace=True)\n"
     ]
    }
   ],
   "source": [
    "df_narrative = pd.read_csv(join(DATA_DIR, \"annotation_ct_counter_speech_gpt4o_3.csv\"), sep=\";\")\n",
    "df_narrative.fillna(\"n/a\", inplace=True)"
   ]
  },
  {
   "cell_type": "code",
   "execution_count": 118,
   "id": "600ac916-e86a-429f-9153-d584b0c8a578",
   "metadata": {},
   "outputs": [
    {
     "data": {
      "text/html": [
       "<div>\n",
       "<style scoped>\n",
       "    .dataframe tbody tr th:only-of-type {\n",
       "        vertical-align: middle;\n",
       "    }\n",
       "\n",
       "    .dataframe tbody tr th {\n",
       "        vertical-align: top;\n",
       "    }\n",
       "\n",
       "    .dataframe thead th {\n",
       "        text-align: right;\n",
       "    }\n",
       "</style>\n",
       "<table border=\"1\" class=\"dataframe\">\n",
       "  <thead>\n",
       "    <tr style=\"text-align: right;\">\n",
       "      <th></th>\n",
       "      <th>theme</th>\n",
       "      <th>message</th>\n",
       "      <th>link</th>\n",
       "      <th>conspiracy theory</th>\n",
       "      <th>actor</th>\n",
       "      <th>strategy</th>\n",
       "      <th>goal</th>\n",
       "      <th>sheeples</th>\n",
       "      <th>secrecy</th>\n",
       "      <th>puppets</th>\n",
       "      <th>fear</th>\n",
       "      <th>hate</th>\n",
       "      <th>euphoria/excitement</th>\n",
       "      <th>authenticating</th>\n",
       "      <th>directive</th>\n",
       "      <th>rhetorical question</th>\n",
       "      <th>explictitly racist</th>\n",
       "      <th>explicitily antisemitic</th>\n",
       "      <th>explicitly misogynist</th>\n",
       "      <th>insults/offensive language</th>\n",
       "      <th>counter_speech_gpt4o</th>\n",
       "      <th>model_strategies</th>\n",
       "      <th>model_counter_speech</th>\n",
       "      <th>clarity</th>\n",
       "      <th>narrative</th>\n",
       "      <th>factual</th>\n",
       "      <th>conspiracy_usage</th>\n",
       "      <th>repetition_harmful</th>\n",
       "      <th>hate_speech</th>\n",
       "      <th>hate_speech_handling</th>\n",
       "      <th>conspiracy_handling</th>\n",
       "      <th>comm_M</th>\n",
       "    </tr>\n",
       "  </thead>\n",
       "  <tbody>\n",
       "    <tr>\n",
       "      <th>0</th>\n",
       "      <td>2.0</td>\n",
       "      <td>The  @WorkersPartyGB fights the tyranny of #Bi...</td>\n",
       "      <td>https://x.com/georgegalloway/status/1809900994...</td>\n",
       "      <td>BigPharma</td>\n",
       "      <td>Big Pharma, British state</td>\n",
       "      <td>compulsory medical intervention by the state d...</td>\n",
       "      <td>mass medication of the nation</td>\n",
       "      <td>n/a</td>\n",
       "      <td>n/a</td>\n",
       "      <td>n/a</td>\n",
       "      <td>n/a</td>\n",
       "      <td>n/a</td>\n",
       "      <td>n/a</td>\n",
       "      <td>n/a</td>\n",
       "      <td>n/a</td>\n",
       "      <td>n/a</td>\n",
       "      <td>n/a</td>\n",
       "      <td>n/a</td>\n",
       "      <td>n/a</td>\n",
       "      <td>n/a</td>\n",
       "      <td>&lt;XXX&gt;Understanding concerns about healthcare p...</td>\n",
       "      <td>- Step 2: No hate speech identified.\\n- Step 3...</td>\n",
       "      <td>Understanding concerns about healthcare privat...</td>\n",
       "      <td>2.0</td>\n",
       "      <td>4.0</td>\n",
       "      <td>5.0</td>\n",
       "      <td>0</td>\n",
       "      <td>5.0</td>\n",
       "      <td>n/a</td>\n",
       "      <td>n/a</td>\n",
       "      <td>n/a</td>\n",
       "      <td>geht nur son bissle am Punkt vorbei, weil die ...</td>\n",
       "    </tr>\n",
       "    <tr>\n",
       "      <th>1</th>\n",
       "      <td>2.0</td>\n",
       "      <td>\"Big Pharma is pretty evil...\" -  @LeilaniDowd...</td>\n",
       "      <td>https://x.com/ellymelly/status/180770219921425...</td>\n",
       "      <td>BigPharma</td>\n",
       "      <td>Big Pharma</td>\n",
       "      <td>They made us fat with their high-calorie fast ...</td>\n",
       "      <td>make profit</td>\n",
       "      <td>n/a</td>\n",
       "      <td>n/a</td>\n",
       "      <td>n/a</td>\n",
       "      <td>n/a</td>\n",
       "      <td>n/a</td>\n",
       "      <td>n/a</td>\n",
       "      <td>1</td>\n",
       "      <td>Watch it on @adhtvaus</td>\n",
       "      <td>n/a</td>\n",
       "      <td>n/a</td>\n",
       "      <td>n/a</td>\n",
       "      <td>n/a</td>\n",
       "      <td>n/a</td>\n",
       "      <td>&lt;XXX&gt;It's important to evaluate how companies ...</td>\n",
       "      <td>1. No hate speech was identified. \\n2. The cla...</td>\n",
       "      <td>It's important to evaluate how companies opera...</td>\n",
       "      <td>2.0</td>\n",
       "      <td>2.0</td>\n",
       "      <td>n/a</td>\n",
       "      <td>0</td>\n",
       "      <td>5.0</td>\n",
       "      <td>n/a</td>\n",
       "      <td>n/a</td>\n",
       "      <td>n/a</td>\n",
       "      <td>Yoni Freedhoff ist nur leider nicht in der Ind...</td>\n",
       "    </tr>\n",
       "    <tr>\n",
       "      <th>2</th>\n",
       "      <td>2.0</td>\n",
       "      <td>TRUMP TO INVESTIGATE BIG PHARMA FOR THE \"STUNN...</td>\n",
       "      <td>https://x.com/BoLoudon/status/1808187088455471349</td>\n",
       "      <td>BigPharma</td>\n",
       "      <td>Big Pharma</td>\n",
       "      <td>AUTISM, INFERTILITY, ALLERGIES, &amp; CHILD ILLNESS</td>\n",
       "      <td>defrauds American patients &amp; taxpayers; make p...</td>\n",
       "      <td>n/a</td>\n",
       "      <td>n/a</td>\n",
       "      <td>n/a</td>\n",
       "      <td>n/a</td>\n",
       "      <td>n/a</td>\n",
       "      <td>n/a</td>\n",
       "      <td>n/a</td>\n",
       "      <td>n/a</td>\n",
       "      <td>n/a</td>\n",
       "      <td>n/a</td>\n",
       "      <td>n/a</td>\n",
       "      <td>n/a</td>\n",
       "      <td>n/a</td>\n",
       "      <td>&lt;XXX&gt;It's important to approach health concern...</td>\n",
       "      <td>- No hate speech was identified.\\n- The claim ...</td>\n",
       "      <td>It's important to approach health concerns wit...</td>\n",
       "      <td>3.0</td>\n",
       "      <td>2.0</td>\n",
       "      <td>n/a</td>\n",
       "      <td>0</td>\n",
       "      <td>5.0</td>\n",
       "      <td>n/a</td>\n",
       "      <td>n/a</td>\n",
       "      <td>n/a</td>\n",
       "      <td>Fauci eher HIV-Forschung</td>\n",
       "    </tr>\n",
       "  </tbody>\n",
       "</table>\n",
       "</div>"
      ],
      "text/plain": [
       "   theme                                            message                                               link conspiracy theory                      actor                                           strategy                                               goal sheeples secrecy puppets fear hate euphoria/excitement authenticating              directive rhetorical question explictitly racist explicitily antisemitic explicitly misogynist insults/offensive language                               counter_speech_gpt4o                                   model_strategies                               model_counter_speech clarity narrative factual  conspiracy_usage repetition_harmful hate_speech hate_speech_handling conspiracy_handling                                             comm_M\n",
       "0    2.0  The  @WorkersPartyGB fights the tyranny of #Bi...  https://x.com/georgegalloway/status/1809900994...         BigPharma  Big Pharma, British state  compulsory medical intervention by the state d...                      mass medication of the nation      n/a     n/a     n/a  n/a  n/a                 n/a            n/a                    n/a                 n/a                n/a                     n/a                   n/a                        n/a  <XXX>Understanding concerns about healthcare p...  - Step 2: No hate speech identified.\\n- Step 3...  Understanding concerns about healthcare privat...     2.0       4.0     5.0                 0                5.0         n/a                  n/a                 n/a  geht nur son bissle am Punkt vorbei, weil die ...\n",
       "1    2.0  \"Big Pharma is pretty evil...\" -  @LeilaniDowd...  https://x.com/ellymelly/status/180770219921425...         BigPharma                 Big Pharma  They made us fat with their high-calorie fast ...                                        make profit      n/a     n/a     n/a  n/a  n/a                 n/a              1  Watch it on @adhtvaus                 n/a                n/a                     n/a                   n/a                        n/a  <XXX>It's important to evaluate how companies ...  1. No hate speech was identified. \\n2. The cla...  It's important to evaluate how companies opera...     2.0       2.0     n/a                 0                5.0         n/a                  n/a                 n/a  Yoni Freedhoff ist nur leider nicht in der Ind...\n",
       "2    2.0  TRUMP TO INVESTIGATE BIG PHARMA FOR THE \"STUNN...  https://x.com/BoLoudon/status/1808187088455471349         BigPharma                 Big Pharma    AUTISM, INFERTILITY, ALLERGIES, & CHILD ILLNESS  defrauds American patients & taxpayers; make p...      n/a     n/a     n/a  n/a  n/a                 n/a            n/a                    n/a                 n/a                n/a                     n/a                   n/a                        n/a  <XXX>It's important to approach health concern...  - No hate speech was identified.\\n- The claim ...  It's important to approach health concerns wit...     3.0       2.0     n/a                 0                5.0         n/a                  n/a                 n/a                           Fauci eher HIV-Forschung"
      ]
     },
     "execution_count": 118,
     "metadata": {},
     "output_type": "execute_result"
    }
   ],
   "source": [
    "df_narrative.head(3)"
   ]
  },
  {
   "cell_type": "code",
   "execution_count": 119,
   "id": "fb9ecdbc-1978-47f8-8e25-5cc3b045c586",
   "metadata": {},
   "outputs": [],
   "source": [
    "REL_COLS = [\"clarity\", \"narrative\", \"conspiracy_usage\", \"repetition_harmful\"]"
   ]
  },
  {
   "cell_type": "code",
   "execution_count": 120,
   "id": "2c4e3d9c-f895-498c-a40c-4925536bb940",
   "metadata": {},
   "outputs": [],
   "source": [
    "for c in ORDINAL_COLS:\n",
    "    if c in df.columns:\n",
    "        df[c] = df[c].map(lambda x: np.nan if x is None or x == \"n/a\" or float(x) == 0.0 or pd.isnull(x) else float(x))\n",
    "    if c in df_narrative.columns:\n",
    "        df_narrative[c] = df_narrative[c].map(lambda x: np.nan if x is None or x == \"n/a\" or float(x) == 0.0 or pd.isnull(x) else float(x))"
   ]
  },
  {
   "cell_type": "code",
   "execution_count": 121,
   "id": "7cc0c2a8-2ddd-4c8d-9718-e865841df153",
   "metadata": {},
   "outputs": [],
   "source": [
    "df[[\"conspiracy_usage\", \"repetition_harmful\"]] = df[[\"conspiracy_usage\", \"repetition_harmful\"]].astype(float)\n"
   ]
  },
  {
   "cell_type": "code",
   "execution_count": 122,
   "id": "5e266b9c-5404-4dc1-b0a6-6a98124ab660",
   "metadata": {},
   "outputs": [],
   "source": [
    "df_narrative[[\"conspiracy_usage\", \"repetition_harmful\"]] = df_narrative[[\"conspiracy_usage\", \"repetition_harmful\"]].astype(float)\n"
   ]
  },
  {
   "cell_type": "code",
   "execution_count": 123,
   "id": "779ff044-243c-465e-a286-cd013f1dc042",
   "metadata": {},
   "outputs": [
    {
     "name": "stderr",
     "output_type": "stream",
     "text": [
      "/Users/helenamihaljevic/.pyenv/versions/3.11.0/envs/twitter/lib/python3.11/site-packages/numpy/lib/nanfunctions.py:1215: RuntimeWarning: Mean of empty slice\n",
      "  return np.nanmean(a, axis, out=out, keepdims=keepdims)\n"
     ]
    }
   ],
   "source": [
    "ordinal_stats = df[REL_COLS].agg(\n",
    "    [\"mean\", \"median\", \"std\", \"min\", \"max\"]\n",
    ")"
   ]
  },
  {
   "cell_type": "code",
   "execution_count": 124,
   "id": "b2810e1d-c6a9-479a-bfba-7d40fe3efba2",
   "metadata": {},
   "outputs": [
    {
     "data": {
      "text/plain": [
       "0"
      ]
     },
     "execution_count": 124,
     "metadata": {},
     "output_type": "execute_result"
    }
   ],
   "source": [
    "df.narrative.notnull().sum()"
   ]
  },
  {
   "cell_type": "code",
   "execution_count": 125,
   "id": "b34cf5d2-1fa9-49ab-8271-3ba4d7325284",
   "metadata": {},
   "outputs": [
    {
     "data": {
      "text/html": [
       "<div>\n",
       "<style scoped>\n",
       "    .dataframe tbody tr th:only-of-type {\n",
       "        vertical-align: middle;\n",
       "    }\n",
       "\n",
       "    .dataframe tbody tr th {\n",
       "        vertical-align: top;\n",
       "    }\n",
       "\n",
       "    .dataframe thead th {\n",
       "        text-align: right;\n",
       "    }\n",
       "</style>\n",
       "<table border=\"1\" class=\"dataframe\">\n",
       "  <thead>\n",
       "    <tr style=\"text-align: right;\">\n",
       "      <th></th>\n",
       "      <th>clarity</th>\n",
       "      <th>narrative</th>\n",
       "      <th>conspiracy_usage</th>\n",
       "      <th>repetition_harmful</th>\n",
       "    </tr>\n",
       "  </thead>\n",
       "  <tbody>\n",
       "    <tr>\n",
       "      <th>mean</th>\n",
       "      <td>3.552632</td>\n",
       "      <td>NaN</td>\n",
       "      <td>0.105263</td>\n",
       "      <td>3.526316</td>\n",
       "    </tr>\n",
       "    <tr>\n",
       "      <th>median</th>\n",
       "      <td>4.000000</td>\n",
       "      <td>NaN</td>\n",
       "      <td>0.000000</td>\n",
       "      <td>3.500000</td>\n",
       "    </tr>\n",
       "    <tr>\n",
       "      <th>std</th>\n",
       "      <td>0.929441</td>\n",
       "      <td>NaN</td>\n",
       "      <td>0.308931</td>\n",
       "      <td>1.227178</td>\n",
       "    </tr>\n",
       "    <tr>\n",
       "      <th>min</th>\n",
       "      <td>1.000000</td>\n",
       "      <td>NaN</td>\n",
       "      <td>0.000000</td>\n",
       "      <td>1.000000</td>\n",
       "    </tr>\n",
       "    <tr>\n",
       "      <th>max</th>\n",
       "      <td>5.000000</td>\n",
       "      <td>NaN</td>\n",
       "      <td>1.000000</td>\n",
       "      <td>5.000000</td>\n",
       "    </tr>\n",
       "  </tbody>\n",
       "</table>\n",
       "</div>"
      ],
      "text/plain": [
       "         clarity  narrative  conspiracy_usage  repetition_harmful\n",
       "mean    3.552632        NaN          0.105263            3.526316\n",
       "median  4.000000        NaN          0.000000            3.500000\n",
       "std     0.929441        NaN          0.308931            1.227178\n",
       "min     1.000000        NaN          0.000000            1.000000\n",
       "max     5.000000        NaN          1.000000            5.000000"
      ]
     },
     "execution_count": 125,
     "metadata": {},
     "output_type": "execute_result"
    }
   ],
   "source": [
    "ordinal_stats"
   ]
  },
  {
   "cell_type": "code",
   "execution_count": 126,
   "id": "755b22cf-9f5d-41e7-afe3-65b6697ded64",
   "metadata": {},
   "outputs": [
    {
     "data": {
      "text/html": [
       "<div>\n",
       "<style scoped>\n",
       "    .dataframe tbody tr th:only-of-type {\n",
       "        vertical-align: middle;\n",
       "    }\n",
       "\n",
       "    .dataframe tbody tr th {\n",
       "        vertical-align: top;\n",
       "    }\n",
       "\n",
       "    .dataframe thead th {\n",
       "        text-align: right;\n",
       "    }\n",
       "</style>\n",
       "<table border=\"1\" class=\"dataframe\">\n",
       "  <thead>\n",
       "    <tr style=\"text-align: right;\">\n",
       "      <th></th>\n",
       "      <th>clarity</th>\n",
       "      <th>narrative</th>\n",
       "      <th>conspiracy_usage</th>\n",
       "      <th>repetition_harmful</th>\n",
       "    </tr>\n",
       "  </thead>\n",
       "  <tbody>\n",
       "    <tr>\n",
       "      <th>mean</th>\n",
       "      <td>3.533333</td>\n",
       "      <td>2.822222</td>\n",
       "      <td>0.065789</td>\n",
       "      <td>4.500000</td>\n",
       "    </tr>\n",
       "    <tr>\n",
       "      <th>median</th>\n",
       "      <td>4.000000</td>\n",
       "      <td>3.000000</td>\n",
       "      <td>0.000000</td>\n",
       "      <td>5.000000</td>\n",
       "    </tr>\n",
       "    <tr>\n",
       "      <th>std</th>\n",
       "      <td>0.759326</td>\n",
       "      <td>0.777200</td>\n",
       "      <td>0.249561</td>\n",
       "      <td>1.050114</td>\n",
       "    </tr>\n",
       "    <tr>\n",
       "      <th>min</th>\n",
       "      <td>2.000000</td>\n",
       "      <td>1.000000</td>\n",
       "      <td>0.000000</td>\n",
       "      <td>1.000000</td>\n",
       "    </tr>\n",
       "    <tr>\n",
       "      <th>max</th>\n",
       "      <td>5.000000</td>\n",
       "      <td>4.000000</td>\n",
       "      <td>1.000000</td>\n",
       "      <td>5.000000</td>\n",
       "    </tr>\n",
       "  </tbody>\n",
       "</table>\n",
       "</div>"
      ],
      "text/plain": [
       "         clarity  narrative  conspiracy_usage  repetition_harmful\n",
       "mean    3.533333   2.822222          0.065789            4.500000\n",
       "median  4.000000   3.000000          0.000000            5.000000\n",
       "std     0.759326   0.777200          0.249561            1.050114\n",
       "min     2.000000   1.000000          0.000000            1.000000\n",
       "max     5.000000   4.000000          1.000000            5.000000"
      ]
     },
     "execution_count": 126,
     "metadata": {},
     "output_type": "execute_result"
    }
   ],
   "source": [
    "ordinal_stats_narrative = df_narrative[REL_COLS].agg(\n",
    "    [\"mean\", \"median\", \"std\", \"min\", \"max\"]\n",
    ")\n",
    "ordinal_stats_narrative"
   ]
  },
  {
   "cell_type": "code",
   "execution_count": 127,
   "id": "5fe9f84c-92b8-4d24-bb4a-8e4bda732be1",
   "metadata": {},
   "outputs": [
    {
     "data": {
      "text/plain": [
       "45"
      ]
     },
     "execution_count": 127,
     "metadata": {},
     "output_type": "execute_result"
    }
   ],
   "source": [
    "df_narrative.narrative.notnull().sum()"
   ]
  },
  {
   "cell_type": "code",
   "execution_count": 128,
   "id": "96d95ad1-5d0f-4c89-bb1f-c28d378d01f2",
   "metadata": {},
   "outputs": [
    {
     "data": {
      "text/plain": [
       "59.21052631578947"
      ]
     },
     "execution_count": 128,
     "metadata": {},
     "output_type": "execute_result"
    }
   ],
   "source": [
    "100*df_narrative.narrative.notnull().sum()/len(df_narrative)"
   ]
  }
 ],
 "metadata": {
  "kernelspec": {
   "display_name": "Python 3 (ipykernel)",
   "language": "python",
   "name": "python3"
  },
  "language_info": {
   "codemirror_mode": {
    "name": "ipython",
    "version": 3
   },
   "file_extension": ".py",
   "mimetype": "text/x-python",
   "name": "python",
   "nbconvert_exporter": "python",
   "pygments_lexer": "ipython3",
   "version": "3.11.0"
  }
 },
 "nbformat": 4,
 "nbformat_minor": 5
}
